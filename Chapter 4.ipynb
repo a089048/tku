{
 "cells": [
  {
   "cell_type": "code",
   "execution_count": 1,
   "metadata": {},
   "outputs": [
    {
     "name": "stdout",
     "output_type": "stream",
     "text": [
      "0.0975\n",
      "0.5975\n"
     ]
    }
   ],
   "source": [
    "import numpy as np #擴充程式庫\n",
    "def mean_squared_error(y,t): #均方誤差\n",
    "    return 0.5 * np.sum((y-t)**2) #均方誤差公式\n",
    "\n",
    "#範例一\n",
    "t=[0,0,1,0,0,0,0,0,0,0]#訓練資料,0=錯、1=對\n",
    "y=[0.1,0.05,0.6,0.0,0.05,0.1,0.0,0.1,0.0,0.0]#機率 從0開始,0=0.1、1-0.05......\n",
    "print ( mean_squared_error(np.array(y),np.array(t)))\n",
    "\n",
    "#範例二\n",
    "\n",
    "t=[0,0,1,0,0,0,0,0,0,0]#訓練資料,0=錯、1=對\n",
    "y=[0.1,0.05,0.1,0.0,0.05,0.1,0.0,0.6,0.0,0.0]#機率 從0開始,0=0.1、1-0.05......\n",
    "print ( mean_squared_error(np.array(y),np.array(t)))\n",
    "\n",
    "\n",
    "#損失數小越適合訓練資料\n",
    "\n"
   ]
  },
  {
   "cell_type": "code",
   "execution_count": null,
   "metadata": {
    "collapsed": true
   },
   "outputs": [],
   "source": []
  }
 ],
 "metadata": {
  "kernelspec": {
   "display_name": "Python 3",
   "language": "python",
   "name": "python3"
  },
  "language_info": {
   "codemirror_mode": {
    "name": "ipython",
    "version": 3
   },
   "file_extension": ".py",
   "mimetype": "text/x-python",
   "name": "python",
   "nbconvert_exporter": "python",
   "pygments_lexer": "ipython3",
   "version": "3.6.3"
  }
 },
 "nbformat": 4,
 "nbformat_minor": 2
}
